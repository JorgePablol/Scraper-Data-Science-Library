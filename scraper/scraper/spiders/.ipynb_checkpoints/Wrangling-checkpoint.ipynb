{
 "cells": [
  {
   "cell_type": "code",
   "execution_count": 1,
   "metadata": {},
   "outputs": [
    {
     "name": "stdout",
     "output_type": "stream",
     "text": [
      " books.py\r\n",
      "'Data Analysis.ipynb'\r\n",
      " ds_books.json\r\n",
      " ds_books_MX_april.json\r\n",
      " __init__.py\r\n",
      "'More than 10 reviewers_21_4_2021_mx.csv'\r\n",
      "'More than 10 reviewers_21_4_2021_usa.csv'\r\n",
      "'MX April.csv'\r\n",
      " october\r\n",
      " __pycache__\r\n",
      "'USA April.csv'\r\n",
      " Wrangling.ipynb\r\n"
     ]
    }
   ],
   "source": [
    "!ls # First lets look for the exact name to use it in the pd.read_csv"
   ]
  },
  {
   "cell_type": "code",
   "execution_count": 10,
   "metadata": {},
   "outputs": [],
   "source": [
    "import numpy as np\n",
    "import pandas as pd #Cool libraries\n",
    "\n",
    "df = pd.read_csv('MX April.csv') #Reading the file\n",
    "#df.drop(columns='cost_3', inplace=True) #In the USA version I had to drop this column"
   ]
  },
  {
   "cell_type": "code",
   "execution_count": 11,
   "metadata": {},
   "outputs": [],
   "source": [
    "for x in df.columns:\n",
    "    df[x] = df[x].astype(str) #making sure all the columns are string"
   ]
  },
  {
   "cell_type": "code",
   "execution_count": 12,
   "metadata": {},
   "outputs": [],
   "source": [
    "df['title']= df['title'].replace(r'\\n','',regex=True) # Replacing /n string in the title column\n",
    "df['stars'] = df['stars'].str.extract(r\"(\\d\\.\\d)\", expand=False) # Getting rid of strings aside the numbers\n",
    "\n",
    "df['reviewers'] = df['reviewers'].replace('nan','0', regex=False) # replacing nan to 0 to change it the to int\n",
    "\n",
    "df['reviewers'] = df['reviewers'].str.extract(r\"(\\d*)\", expand=False) #extractig everything to result a float\n",
    "df['cost'] = df['cost'].str.extract(r\"(\\d*\\.\\d*)\", expand=False) #extractig everything to result a float\n",
    "df['cost_2'] = df['cost_2'].str.extract(r\"(\\d*\\.\\d*)\", expand=False) #extractig everything to result a float\n",
    "df['cost_3'] = df['cost_3'].str.extract(r\"(\\d*\\.\\d*)\", expand=False)\n",
    "df['kindle'] = df['kindle'].str.extract(r\"(\\d*\\.\\d*)\", expand=False) #extractig everything to result a float\n",
    "df['kindle_2'] = df['kindle_2'].str.extract(r\"(\\d*\\.\\d*)\", expand=False) #extractig everything to result a float\n",
    "df['kindle_3'] = df['kindle_3'].str.extract(r\"(\\d*\\.\\d*)\", expand=False) #extractig everything to result a float"
   ]
  },
  {
   "cell_type": "code",
   "execution_count": 13,
   "metadata": {},
   "outputs": [],
   "source": [
    "df['stars'] = df['stars'].astype(float) #Stars as float\n",
    "df['reviewers'] = df['reviewers'].fillna(0) # Filling na values with 0\n",
    "df['stars'] = df['stars'].fillna(0) # Filling na to 0\n",
    "df['reviewers'] = df['reviewers'].astype(int) # Reviewers as integers"
   ]
  },
  {
   "cell_type": "code",
   "execution_count": 14,
   "metadata": {},
   "outputs": [],
   "source": [
    "for x in ['cost', 'cost_2','kindle', 'kindle_2', 'kindle_3']:\n",
    "    df[x] = df[x].fillna(0)\n",
    "    df[x] = df[x].astype(float) #changing every of those columns to float"
   ]
  },
  {
   "cell_type": "code",
   "execution_count": 15,
   "metadata": {},
   "outputs": [],
   "source": [
    "df_clean = df.sort_values(by=['stars','reviewers'], ascending=False) #ordering by the cool columns\n",
    "df_clean.to_csv('DS_BOOKS_MX_CLEAN.csv', index=False) #saving to csv without index"
   ]
  }
 ],
 "metadata": {
  "kernelspec": {
   "display_name": "Python 3",
   "language": "python",
   "name": "python3"
  },
  "language_info": {
   "codemirror_mode": {
    "name": "ipython",
    "version": 3
   },
   "file_extension": ".py",
   "mimetype": "text/x-python",
   "name": "python",
   "nbconvert_exporter": "python",
   "pygments_lexer": "ipython3",
   "version": "3.7.6"
  }
 },
 "nbformat": 4,
 "nbformat_minor": 4
}
