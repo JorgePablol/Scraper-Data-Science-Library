{
 "cells": [
  {
   "cell_type": "code",
   "execution_count": 151,
   "metadata": {},
   "outputs": [
    {
     "name": "stdout",
     "output_type": "stream",
     "text": [
      "'200+ Resenas amazon ds.csv'\r\n",
      " books.py\r\n",
      " ds_books_august.json\r\n",
      " ds_books.json\r\n",
      " ds_books_MX_january.json\r\n",
      "'DS_BOOKS_OCTOBER_2020 - csvjson.csv'\r\n",
      " ds_books_october.json\r\n",
      " ds_books_usa_january.json\r\n",
      " Final_results_cleaned.csv\r\n",
      " Final_Results.csv\r\n",
      " __init__.py\r\n",
      "'Los 200 mejores de data science amazon julio 2020.csv'\r\n",
      "'Los mejores libros amazon mexico data science.csv'\r\n",
      "'Los mejores libros a partir de 50 reviewers julio 2020.csv'\r\n",
      "'More than 200 reviewers_january_mx.csv'\r\n",
      "'More than 200 reviewers_january_usa.csv'\r\n",
      "'More than 200 reviewers_october.csv'\r\n",
      "'More than 20 reviewers.csv'\r\n",
      "'MX January.csv'\r\n",
      " october\r\n",
      " __pycache__\r\n",
      " test_json_files\r\n",
      "'USA JANUARY.csv'\r\n",
      " Wrangling.ipynb\r\n"
     ]
    }
   ],
   "source": [
    "!ls # First lets look for the exact name to use it in the pd.read_csv"
   ]
  },
  {
   "cell_type": "code",
   "execution_count": 150,
   "metadata": {},
   "outputs": [],
   "source": [
    "import numpy as np\n",
    "import pandas as pd #Cool libraries\n",
    "\n",
    "df = pd.read_csv('USA JANUARY.csv') #Reading the file\n",
    "df.drop(columns='cost_3', inplace=True) #In the USA version I had to drop this column"
   ]
  },
  {
   "cell_type": "code",
   "execution_count": 152,
   "metadata": {},
   "outputs": [],
   "source": [
    "for x in df.columns:\n",
    "    df[x] = df[x].astype(str) #making sure all the columns are string"
   ]
  },
  {
   "cell_type": "code",
   "execution_count": 153,
   "metadata": {},
   "outputs": [],
   "source": [
    "df['title']= df['title'].replace(r'\\n','',regex=True) # Replacing /n string in the title column\n",
    "df['stars'] = df['stars'].str.extract(r\"(\\d\\.\\d)\", expand=False) # Getting rid of strings aside the numbers\n",
    "\n",
    "df['reviewers'] = df['reviewers'].replace('nan','0', regex=False) # replacing nan to 0 to change it the to int\n",
    "\n",
    "df['reviewers'] = df['reviewers'].str.extract(r\"(\\d*)\", expand=False) #extractig everything to result a float\n",
    "df['cost'] = df['cost'].str.extract(r\"(\\d*\\.\\d*)\", expand=False) #extractig everything to result a float\n",
    "df['cost_2'] = df['cost_2'].str.extract(r\"(\\d*\\.\\d*)\", expand=False) #extractig everything to result a float\n",
    "#df['cost_3'] = df['cost_3'].str.extract(r\"(\\d*\\.\\d*)\", expand=False)\n",
    "df['kindle'] = df['kindle'].str.extract(r\"(\\d*\\.\\d*)\", expand=False) #extractig everything to result a float\n",
    "df['kindle_2'] = df['kindle_2'].str.extract(r\"(\\d*\\.\\d*)\", expand=False) #extractig everything to result a float\n",
    "df['kindle_3'] = df['kindle_3'].str.extract(r\"(\\d*\\.\\d*)\", expand=False) #extractig everything to result a float\n",
    "\n",
    "\n"
   ]
  },
  {
   "cell_type": "code",
   "execution_count": 154,
   "metadata": {},
   "outputs": [],
   "source": [
    "df['stars'] = df['stars'].astype(float) #Stars as float\n",
    "df['reviewers'] = df['reviewers'].fillna(0) # Filling na values with 0\n",
    "df['stars'] = df['stars'].fillna(0) # Filling na to 0\n",
    "df['reviewers'] = df['reviewers'].astype(int) # Reviewers as integers"
   ]
  },
  {
   "cell_type": "code",
   "execution_count": 155,
   "metadata": {},
   "outputs": [],
   "source": [
    "for x in ['cost', 'cost_2','kindle', 'kindle_2', 'kindle_3']:\n",
    "    df[x] = df[x].fillna(0)\n",
    "    df[x] = df[x].astype(float) #changing every of those columns to float"
   ]
  },
  {
   "cell_type": "code",
   "execution_count": 156,
   "metadata": {},
   "outputs": [],
   "source": [
    "reviewers_mask = df['reviewers'] < 10 # a little mask for lower than 10\n",
    "df_clean_20_reviewers = df.loc[~reviewers_mask,:].copy() #deleting lower than 10 from the dataset\n",
    "df_clean_20_reviewers = df_clean_20_reviewers.sort_values(by=['stars','reviewers'], ascending=False) #ordering by the cool columns\n",
    "df_clean_20_reviewers.to_csv('More than 200 reviewers_january_usa.csv', index=False) #saving to csv without index"
   ]
  },
  {
   "cell_type": "code",
   "execution_count": null,
   "metadata": {},
   "outputs": [],
   "source": []
  }
 ],
 "metadata": {
  "kernelspec": {
   "display_name": "Python 3",
   "language": "python",
   "name": "python3"
  },
  "language_info": {
   "codemirror_mode": {
    "name": "ipython",
    "version": 3
   },
   "file_extension": ".py",
   "mimetype": "text/x-python",
   "name": "python",
   "nbconvert_exporter": "python",
   "pygments_lexer": "ipython3",
   "version": "3.7.6"
  }
 },
 "nbformat": 4,
 "nbformat_minor": 4
}
