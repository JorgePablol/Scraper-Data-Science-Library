{
 "cells": [
  {
   "cell_type": "markdown",
   "metadata": {},
   "source": [
    "# Importing libraries"
   ]
  },
  {
   "cell_type": "code",
   "execution_count": 29,
   "metadata": {
    "id": "DutRsmXIFSr4"
   },
   "outputs": [],
   "source": [
    "import pandas as pd\n",
    "import numpy as np\n",
    "import matplotlib.pyplot as plt\n",
    "import matplotlib as mpl\n",
    "import seaborn as sns\n",
    "\n",
    "pd.set_option('display.max_columns', 10) #Display the whole columns\n",
    "pd.set_option('display.max_rows', 10) #Display the whole rows"
   ]
  },
  {
   "cell_type": "code",
   "execution_count": 2,
   "metadata": {
    "colab": {
     "base_uri": "https://localhost:8080/"
    },
    "id": "7BN81nqxFSsC",
    "outputId": "61d41813-a5b9-47c6-9583-f79c81b8c9fa"
   },
   "outputs": [
    {
     "name": "stdout",
     "output_type": "stream",
     "text": [
      " books.py\t\t\t    DS_BOOKS_MX_CLEAN.csv    Trash\r\n",
      " Data_Analysis_MX_2.ipynb\t    DS_BOOKS_USA_CLEAN.csv  'USA April.csv'\r\n",
      "'Data Analysis MX.ipynb'\t    __init__.py\t\t    'Viz Mx'\r\n",
      "'Data Analysis USA version.ipynb'  'MX April.csv'\t     Wrangling.ipynb\r\n",
      " ds_books.json\t\t\t    october\r\n",
      " ds_books_MX_april.json\t\t    __pycache__\r\n"
     ]
    }
   ],
   "source": [
    "!ls #Looking for the exact name of my data"
   ]
  },
  {
   "cell_type": "markdown",
   "metadata": {},
   "source": [
    "# Some extra wrangling"
   ]
  },
  {
   "cell_type": "code",
   "execution_count": 3,
   "metadata": {
    "id": "DW5KG4qIFSsF"
   },
   "outputs": [],
   "source": [
    "df = pd.read_csv('DS_BOOKS_MX_CLEAN.csv')#Reading the file\n",
    "df['cost_3'] = df['cost_3'].fillna(0.0)#Dealing with nas\n",
    "df = df.dropna(subset=['title'])#Dropping some blank titles\n",
    "df = df.drop_duplicates(subset='title', keep='first')#Dropping duplicates by title\n",
    "df.to_csv('DS_BOOKS_MX_CLEANED.csv', index=False)#Saving the newest wrangling"
   ]
  },
  {
   "cell_type": "markdown",
   "metadata": {
    "id": "FjBoM-B1FSsF"
   },
   "source": [
    "# The best"
   ]
  },
  {
   "cell_type": "code",
   "execution_count": 31,
   "metadata": {
    "id": "UZNQ_qnnFSsG"
   },
   "outputs": [],
   "source": [
    "df_best = df.query('reviewers > 50 and stars >= 4.5')#querying for the best\n",
    "df_best.to_csv('the_best.csv', index=False)#Saving to create visualizations"
   ]
  },
  {
   "cell_type": "markdown",
   "metadata": {
    "id": "iWjXCyBMFSsH"
   },
   "source": [
    "# Good books"
   ]
  },
  {
   "cell_type": "code",
   "execution_count": 61,
   "metadata": {
    "id": "wTfy5vBZFSsH"
   },
   "outputs": [],
   "source": [
    "df_good_not_pop = df.query('stars >= 4.5 and reviewers < 50')#Querying for the good not very popular\n",
    "df_good_not_pop.to_csv('good_not_pop.csv', index=False)#Saving the file"
   ]
  },
  {
   "cell_type": "markdown",
   "metadata": {
    "id": "ogIi8iU-FSsN"
   },
   "source": [
    "# Worst books"
   ]
  },
  {
   "cell_type": "code",
   "execution_count": 40,
   "metadata": {
    "id": "DJvao5WAFSsN"
   },
   "outputs": [],
   "source": [
    "df_worst = df.query('stars < 4 and reviewers > 0')\n",
    "df_worst.sort_values(by='stars', ascending=True)#Sorting the table by lower stars\n",
    "df_worst.to_csv('the worst.csv', index=False)"
   ]
  },
  {
   "cell_type": "code",
   "execution_count": 43,
   "metadata": {
    "id": "M-VTOtmZFSsO"
   },
   "outputs": [],
   "source": [
    "df_worst_comsens = df_worst.query('reviewers > 5')\n",
    "df_worst_comsens.sort_values(by='stars', ascending=True)"
   ]
  },
  {
   "cell_type": "markdown",
   "metadata": {
    "id": "ftSIF-PzFSsP"
   },
   "source": [
    "# Most expensive books"
   ]
  },
  {
   "cell_type": "code",
   "execution_count": 48,
   "metadata": {
    "id": "TFTAl_BWFSsQ"
   },
   "outputs": [],
   "source": [
    "df_exp = df.sort_values(by=['cost', 'cost_2', 'cost_3',\n",
    "       'kindle', 'kindle_2', 'kindle_3'], ascending=False)#Sorting by the highest prices\n",
    "df_exp.to_csv('expensive.csv', index=False)#Saving the file"
   ]
  },
  {
   "cell_type": "markdown",
   "metadata": {
    "id": "LEZAqw5UHj24"
   },
   "source": [
    "# Surprises"
   ]
  },
  {
   "cell_type": "code",
   "execution_count": 66,
   "metadata": {
    "id": "Q21ZpE5zHlXL"
   },
   "outputs": [],
   "source": [
    "sur = df.query('stars > 4 and reviewers >= 1 and stars < 4.5')\n",
    "sur.to_csv('surprise.csv', index=False)"
   ]
  },
  {
   "cell_type": "markdown",
   "metadata": {
    "id": "qxva3_HQHmXo"
   },
   "source": [
    "# Unknown"
   ]
  },
  {
   "cell_type": "code",
   "execution_count": 64,
   "metadata": {
    "id": "VVjrX6L5HnIH"
   },
   "outputs": [],
   "source": [
    "df_unknown = df.query('reviewers < 1')\n",
    "df_unknown.to_csv('unknown.csv', index=False)"
   ]
  }
 ],
 "metadata": {
  "colab": {
   "collapsed_sections": [],
   "name": "Data Analysis MX.ipynb",
   "provenance": []
  },
  "kernelspec": {
   "display_name": "Python 3",
   "language": "python",
   "name": "python3"
  },
  "language_info": {
   "codemirror_mode": {
    "name": "ipython",
    "version": 3
   },
   "file_extension": ".py",
   "mimetype": "text/x-python",
   "name": "python",
   "nbconvert_exporter": "python",
   "pygments_lexer": "ipython3",
   "version": "3.7.6"
  }
 },
 "nbformat": 4,
 "nbformat_minor": 1
}
